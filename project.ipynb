{
  "nbformat": 4,
  "nbformat_minor": 0,
  "metadata": {
    "colab": {
      "provenance": [],
      "mount_file_id": "11LI8pM9odr2S6665_FJ-2Z83lin80WhB",
      "authorship_tag": "ABX9TyO4hItvraS2rKk/tHqpZI2B",
      "include_colab_link": true
    },
    "kernelspec": {
      "name": "python3",
      "display_name": "Python 3"
    },
    "language_info": {
      "name": "python"
    }
  },
  "cells": [
    {
      "cell_type": "markdown",
      "metadata": {
        "id": "view-in-github",
        "colab_type": "text"
      },
      "source": [
        "<a href=\"https://colab.research.google.com/github/potat10125/Comp6271/blob/main/project.ipynb\" target=\"_parent\"><img src=\"https://colab.research.google.com/assets/colab-badge.svg\" alt=\"Open In Colab\"/></a>"
      ]
    },
    {
      "cell_type": "code",
      "execution_count": null,
      "metadata": {
        "id": "Wdmn67dyW4DD"
      },
      "outputs": [],
      "source": [
        "import os\n",
        "import numpy as np\n",
        "from sklearn.model_selection import train_test_split\n",
        "from sklearn.tree import DecisionTreeClassifier\n",
        "from sklearn import metrics\n",
        "from PIL import Image\n",
        "from torchvision import transforms\n",
        "from sklearn.semi_supervised import SelfTrainingClassifier\n",
        "\n",
        "# Define paths to your data\n",
        "data_folder = 'content'\n",
        "data_paths = {\n",
        "\t'aquarium': 'data/train/aquarium',\n",
        "\t'hospital': 'data/train/hospital',\n",
        "\t'beach': 'data/train/beach',\n",
        "\t'restaurant': 'data/train/restaurant',\n",
        "\t'volcano': 'data/train/volcano'\n",
        "}\n",
        "\n",
        "# Define transformations\n",
        "transform = transforms.Compose([\n",
        "\t# Resize image to 64x64\n",
        "\ttransforms.Resize((64, 64)),\n",
        "\t# Convert image to tensor\n",
        "\ttransforms.ToTensor(),\n",
        "\t# Mean and std calculated from stats.py\n",
        "\ttransforms.Normalize(mean=[0.43092114, 0.43950402, 0.43928512], std=[0.21397243, 0.21081277, 0.22242009])\n",
        "])\n",
        "\n",
        "# Load your data\n",
        "data = []\n",
        "labels = []\n",
        "for label, path in enumerate(data_paths):\n",
        "\tfor filename in os.listdir(data_paths[path]):\n",
        "\t\t# Skip ds_store files\n",
        "\t\tif filename.startswith('.'):\n",
        "\t\t\tcontinue\n",
        "\t\timg = Image.open(os.path.join(data_paths[path], filename))\n",
        "\t\timg = transform(img)\n",
        "\t\tdata.append(img.numpy().flatten())\n",
        "\t\tlabels.append(label)\n",
        "\n",
        "# Convert labels to numpy array\n",
        "labels = np.array(labels)\n",
        "\n",
        "# Set some labels to -1 (unlabeled)\n",
        "rng = np.random.RandomState(42)\n",
        "random_unlabeled_points = rng.rand(len(labels)) < 0.5\n",
        "labels[random_unlabeled_points] = -1\n",
        "\n",
        "# Split data into training and testing sets\n",
        "X_train, X_test, y_train, y_test = train_test_split(data, labels, test_size=0.2, random_state=42)\n",
        "\n",
        "# Define the DT model. Tune the hyperparameters to adjust model accuracy.\n",
        "tree_model = DecisionTreeClassifier(max_depth=5, min_samples_split=10, min_samples_leaf=5)\n",
        "\n",
        "# Define the self-training classifier\n",
        "self_training_clf = SelfTrainingClassifier(tree_model)\n",
        "\n",
        "# Train the classifier\n",
        "self_training_clf.fit(X_train, y_train)\n",
        "\n",
        "# Predict on test data\n",
        "y_pred = self_training_clf.predict(X_test)\n",
        "\n",
        "# Print accuracy\n",
        "print(\"Semi-supervised model accuracy:\", metrics.accuracy_score(y_test, y_pred))\n"
      ]
    },
    {
      "cell_type": "code",
      "source": [
        "pwd"
      ],
      "metadata": {
        "colab": {
          "base_uri": "https://localhost:8080/",
          "height": 35
        },
        "id": "7oev1_JPW9Bh",
        "outputId": "e059896a-3f19-4d3f-d735-af3eda01932c"
      },
      "execution_count": 1,
      "outputs": [
        {
          "output_type": "execute_result",
          "data": {
            "text/plain": [
              "'/content'"
            ],
            "application/vnd.google.colaboratory.intrinsic+json": {
              "type": "string"
            }
          },
          "metadata": {},
          "execution_count": 1
        }
      ]
    },
    {
      "cell_type": "code",
      "source": [],
      "metadata": {
        "id": "jxYH4MDlW9P5"
      },
      "execution_count": null,
      "outputs": []
    }
  ]
}